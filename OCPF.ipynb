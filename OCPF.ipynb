{
 "cells": [
  {
   "cell_type": "code",
   "execution_count": 2,
   "metadata": {},
   "outputs": [],
   "source": [
    "import pandas as pd\n",
    "from pandas import read_csv\n",
    "import selenium\n",
    "from selenium import webdriver\n",
    "from selenium.webdriver.support.ui import Select\n",
    "from collections import OrderedDict \n",
    "from selenium.webdriver.common.keys import Keys \n",
    "import time\n",
    "\n",
    "driver = webdriver.Chrome()\n",
    "driver.get('http://www.ocpf.us/Filers?q=Jonathan%20Hecht&cat=C')\n",
    "# dropdown = Select(driver.find_element_by_name('search_results_table_length'))\n",
    "# dropdown.select_by_value('-1')"
   ]
  },
  {
   "cell_type": "code",
   "execution_count": 2,
   "metadata": {},
   "outputs": [
    {
     "name": "stdout",
     "output_type": "stream",
     "text": [
      "936\n",
      "922\n"
     ]
    }
   ],
   "source": [
    "df = pd.read_csv(\"../pd43-data/all.csv\" )\n",
    "# df[\"name\"]\n",
    "names = []\n",
    "print(len(df[\"name\"]))\n",
    "for name in df[\"name\"]:\n",
    "    if name != \"name\":\n",
    "        names.append(name)\n",
    "print(len(names))"
   ]
  },
  {
   "cell_type": "code",
   "execution_count": 30,
   "metadata": {},
   "outputs": [
    {
     "data": {
      "text/plain": [
       "389"
      ]
     },
     "execution_count": 30,
     "metadata": {},
     "output_type": "execute_result"
    }
   ],
   "source": [
    "uniquenameList = []\n",
    "for letter in names:\n",
    "    if letter not in uniquenameList:\n",
    "        uniquenameList.append(letter)\n",
    "len(uniquenameList)"
   ]
  },
  {
   "cell_type": "code",
   "execution_count": 31,
   "metadata": {},
   "outputs": [
    {
     "data": {
      "text/plain": [
       "['John J. Binienda, Sr.',\n",
       " 'Ryan C. Fattman',\n",
       " 'Demetrius J. Atsalis',\n",
       " 'Christopher N. Speranzo',\n",
       " 'George T. Ross',\n",
       " 'Kevin Aguiar',\n",
       " 'Stephen R. Canessa',\n",
       " 'Harriett L. Stanley',\n",
       " 'David M. Torrisi',\n",
       " 'Paul Adams',\n",
       " 'Brian Michael Ashe',\n",
       " 'Michael F. Kane',\n",
       " 'Steven L. Levy',\n",
       " 'Charles A. Murphy']"
      ]
     },
     "execution_count": 31,
     "metadata": {},
     "output_type": "execute_result"
    }
   ],
   "source": [
    "uniquenameList[316:330]"
   ]
  },
  {
   "cell_type": "code",
   "execution_count": 35,
   "metadata": {},
   "outputs": [
    {
     "data": {
      "text/plain": [
       "376"
      ]
     },
     "execution_count": 35,
     "metadata": {},
     "output_type": "execute_result"
    }
   ],
   "source": [
    "uniquenameList.index(\"Michael R. Knapik\")"
   ]
  },
  {
   "cell_type": "code",
   "execution_count": 6,
   "metadata": {},
   "outputs": [],
   "source": [
    "import time"
   ]
  },
  {
   "cell_type": "code",
   "execution_count": 89,
   "metadata": {},
   "outputs": [
    {
     "name": "stdout",
     "output_type": "stream",
     "text": [
      "Martha Coakley\n",
      "Paulo C. Deoliveira\n",
      "Stephen J. Murphy\n",
      "John R. Buckley, Jr.\n",
      "Maria C. Curtatone\n",
      "J. Mark Treadup\n",
      "Frances T. Brooks\n",
      "Donald E. Ashe\n",
      "Wanda M. Beckwith\n",
      "John L. O'Brien, Jr.\n"
     ]
    }
   ],
   "source": [
    "for item in names[1:11]:\n",
    "    inputItem = driver.find_element_by_xpath(\"//input[@id='univ-search-value']\")\n",
    "    inputItem.send_keys(item)\n",
    "    inputItem.send_keys(Keys.RETURN)\n",
    "#     print(item)\n",
    "\n",
    "    time.sleep(1)\n",
    "    try:\n",
    "        driver.find_element_by_xpath(\"//ul[@id='filerTabs']/li[2]\").click()\n",
    "        time.sleep(1)\n",
    "        limitDate = driver.find_element_by_xpath(\"//input[@id='StartReportDateFilter']\")\n",
    "        limitDate.send_keys(\"2010/01\")\n",
    "        limitDate.send_keys(Keys.RETURN)\n",
    "        limitDate.clear()\n",
    "        "
   ]
  },
  {
   "cell_type": "code",
   "execution_count": 63,
   "metadata": {},
   "outputs": [],
   "source": [
    "#search name\n",
    "import os\n",
    "inputItem = driver.find_element_by_xpath(\"//input[@id='univ-search-value']\")\n",
    "inputItem.send_keys(\"Christopher J. Donelan\")\n",
    "inputItem.send_keys(Keys.RETURN)\n",
    "time.sleep(1)\n",
    "# reports = driver.find_element_by_xpath(\"//ul[@id='filerTabs']/li[@class='active']\")\n",
    "# inputItem.clear()"
   ]
  },
  {
   "cell_type": "code",
   "execution_count": 61,
   "metadata": {},
   "outputs": [],
   "source": [
    "# driver.find_element_by_xpath(\"//ul[@id='filerTabs']/li[2]\").click()"
   ]
  },
  {
   "cell_type": "code",
   "execution_count": 65,
   "metadata": {},
   "outputs": [],
   "source": [
    "# driver.find_element_by_xpath(\"//ul[@id='filerTabs']/li[@class='active']\").click()\n",
    "#filter\n",
    "driver.find_element_by_xpath(\"//ul[@id='filerTabs']/li[2]\").click()\n",
    "time.sleep(1)\n",
    "limitDate = driver.find_element_by_xpath(\"//input[@id='StartReportDateFilter']\")\n",
    "limitDate.send_keys(\"2010/01\")\n",
    "limitDate.send_keys(Keys.RETURN)\n",
    "limitDate.clear()"
   ]
  },
  {
   "cell_type": "code",
   "execution_count": 32,
   "metadata": {},
   "outputs": [],
   "source": [
    "#for each name, enter the filer , return it search result\n",
    "def search_result():    \n",
    "    years = []\n",
    "    reportType = []\n",
    "    period = []\n",
    "    startBalance = []\n",
    "    receipts = []\n",
    "    expenditures = []\n",
    "    endBalance = []\n",
    "    liabilities = []\n",
    "    inkinds = []\n",
    "    filed = []\n",
    "    # //*[@id=\"tblReports\"]\n",
    "    while True:\n",
    "        info = driver.find_element_by_id(\"tblReports\")\n",
    "        for year in info.find_elements_by_xpath(\"//td[@class='c'][1]\"):\n",
    "            years.append(year.text)\n",
    "        for report in info.find_elements_by_xpath(\"//td[@class='l']/a\"):\n",
    "            reportType.append(report.text)\n",
    "        for start in info.find_elements_by_xpath(\"//td[@class='r'][1]\"):\n",
    "            startBalance.append(start.text)\n",
    "        for receipt in info.find_elements_by_xpath(\"//td[@class='r'][2]\"):\n",
    "            receipts.append(receipt.text)\n",
    "        for expenditure in info.find_elements_by_xpath(\"//td[@class='r'][3]\"):\n",
    "            expenditures.append(expenditure.text)\n",
    "        for end in info.find_elements_by_xpath(\"//td[@class='r'][4]\"):\n",
    "            endBalance.append(end.text)\n",
    "        for file in info.find_elements_by_xpath(\"//td[@class='r'][5]\"):\n",
    "            filed.append(file.text)\n",
    "\n",
    "    #     reportType.append(report.text)\n",
    "        time.sleep(1)\n",
    "    #     driver.find_element_by_xpath(\"//button[@class='btn navNext']\").click()\n",
    "        try: \n",
    "            driver.find_element_by_xpath(\"//button[@class='btn navNext']\").click()\n",
    "            time.sleep(1)\n",
    "        except:\n",
    "            break\n",
    "    #     else:\n",
    "    #         driver.find_element_by_xpath(\"//button[@class='btn navNext']\").click()\n",
    "    #     driver.find_element_by_xpath(\"//button[@class='btn navNext']\").click()\n",
    "    return years,reportType,startBalance,receipts,expenditures,endBalance,filed\n",
    "#     len(years)"
   ]
  },
  {
   "cell_type": "code",
   "execution_count": 36,
   "metadata": {},
   "outputs": [
    {
     "name": "stdout",
     "output_type": "stream",
     "text": [
      "Michael R. Knapik\n",
      "Katherine M. Clark\n",
      "Therese Murray\n",
      "Robert L. Hedlund, Jr.\n",
      "Jack Hart\n",
      "Richard T. Moore\n",
      "Stephen M. Brewer\n",
      "Benjamin Brackett Downing\n",
      "Steven A. Baddour\n",
      "Frederick E. Berry\n",
      "Susan C. Fargo\n",
      "Steven A. Tolman\n",
      "Suzanne M. Bump\n"
     ]
    }
   ],
   "source": [
    "for item in uniquenameList[376:]:\n",
    "    \n",
    "    name = []\n",
    "    ocpf = []\n",
    "#     years,reportType,startBalance,receipts,expenditures,endBalance,filed = []\n",
    "    \n",
    "    inputItem = driver.find_element_by_xpath(\"//input[@id='univ-search-value']\")\n",
    "    inputItem.send_keys(item)\n",
    "    inputItem.send_keys(Keys.RETURN)\n",
    "    print(item)\n",
    "    name.append(item)\n",
    "\n",
    "#     time.sleep(1)\n",
    "    try:\n",
    "        driver.find_element_by_xpath(\"//ul[@id='filerTabs']/li[2]\").click()\n",
    "        time.sleep(1)\n",
    "        limitDate = driver.find_element_by_xpath(\"//input[@id='StartReportDateFilter']\")\n",
    "        limitDate.send_keys(\"2010/01\")\n",
    "        limitDate.send_keys(Keys.RETURN)\n",
    "#         limitDate.clear()\n",
    "        time.sleep(2)\n",
    "        years,reportType,startBalance,receipts,expenditures,endBalance,filed = search_result()\n",
    "        name = [name for i in range(len(years))]\n",
    "        \n",
    "    except:\n",
    "        years,reportType,startBalance,receipts,expenditures,endBalance,filed  = [\"none\"],[\"none\"],[\"none\"],[\"none\"],[\"none\"],[\"none\"],[\"none\"]\n",
    "    for i in range(len(years)):\n",
    "        ocpf.append([(''.join(name[i])),(years[i]),(reportType[i]),(startBalance[i]),(receipts[i]),(expenditures[i]),(endBalance[i]),(filed[i])])\n",
    "    \n",
    "    ocpfDF = pd.DataFrame(ocpf)\n",
    "#     ocpfDF.to_csv(\"ocpf.csv\", header = [\"name\",\"years\",\"reportType\",\"startBalance\",\"receipts\",\"expenditures\",\"endBalance\",\"filed\"] ,index=False, mode='a')\n",
    "    ocpfDF.to_csv(\"ocpf.csv\", header= False, index=False, mode='a')\n",
    "    \n",
    "df = read_csv(\"ocpf.csv\")\n",
    "df.columns = [\"name\",\"years\",\"reportType\",\"startBalance\",\"receipts\",\"expenditures\",\"endBalance\",\"filed\"]\n",
    "df.to_csv(\"ocpf_final.csv\")\n",
    "    "
   ]
  },
  {
   "cell_type": "code",
   "execution_count": 77,
   "metadata": {},
   "outputs": [
    {
     "data": {
      "text/plain": [
       "\"John L. O'Brien, Jr.\""
      ]
     },
     "execution_count": 77,
     "metadata": {},
     "output_type": "execute_result"
    }
   ],
   "source": [
    "name = [\"John L. O'Brien, Jr.\"]\n",
    "name = [name for i in range(50)]\n",
    "name = ''.join(name[1])\n",
    "name"
   ]
  },
  {
   "cell_type": "code",
   "execution_count": 28,
   "metadata": {},
   "outputs": [],
   "source": [
    "from pandas import read_csv\n",
    "df = read_csv(\"ocpf.csv\")\n",
    "df.columns = [\"name\",\"years\",\"reportType\",\"startBalance\",\"receipts\",\"expenditures\",\"endBalance\",\"filed\"]\n",
    "df.to_csv(\"ocpf_final.csv\")"
   ]
  },
  {
   "cell_type": "code",
   "execution_count": 5,
   "metadata": {},
   "outputs": [
    {
     "name": "stdout",
     "output_type": "stream",
     "text": [
      "['Christopher J. Donelan']\n",
      "[['Christopher J. Donelan'], ['Christopher J. Donelan'], ['Christopher J. Donelan'], ['Christopher J. Donelan']]\n"
     ]
    }
   ],
   "source": [
    "name = [\"Christopher J. Donelan\"]\n",
    "print(name)\n",
    "names = [name for i in range(4)]\n",
    "print(names)"
   ]
  },
  {
   "cell_type": "code",
   "execution_count": 95,
   "metadata": {},
   "outputs": [],
   "source": [
    "years,reportType,startBalance,receipts,expenditures,endBalance,filed = search_result()"
   ]
  },
  {
   "cell_type": "code",
   "execution_count": 17,
   "metadata": {},
   "outputs": [
    {
     "ename": "ValueError",
     "evalue": "not enough values to unpack (expected 7, got 0)",
     "output_type": "error",
     "traceback": [
      "\u001b[0;31m---------------------------------------------------------------------------\u001b[0m",
      "\u001b[0;31mValueError\u001b[0m                                Traceback (most recent call last)",
      "\u001b[0;32m<ipython-input-17-10e03546cb06>\u001b[0m in \u001b[0;36m<module>\u001b[0;34m()\u001b[0m\n\u001b[0;32m----> 1\u001b[0;31m \u001b[0myears\u001b[0m\u001b[0;34m,\u001b[0m\u001b[0mreportType\u001b[0m\u001b[0;34m,\u001b[0m\u001b[0mstartBalance\u001b[0m\u001b[0;34m,\u001b[0m\u001b[0mreceipts\u001b[0m\u001b[0;34m,\u001b[0m\u001b[0mexpenditures\u001b[0m\u001b[0;34m,\u001b[0m\u001b[0mendBalance\u001b[0m\u001b[0;34m,\u001b[0m\u001b[0mfiled\u001b[0m \u001b[0;34m=\u001b[0m \u001b[0;34m[\u001b[0m\u001b[0;34m]\u001b[0m\u001b[0;34m*\u001b[0m\u001b[0;36m7\u001b[0m\u001b[0;34m\u001b[0m\u001b[0m\n\u001b[0m",
      "\u001b[0;31mValueError\u001b[0m: not enough values to unpack (expected 7, got 0)"
     ]
    }
   ],
   "source": [
    "years,reportType,startBalance,receipts,expenditures,endBalance,filed = []"
   ]
  },
  {
   "cell_type": "code",
   "execution_count": 10,
   "metadata": {},
   "outputs": [
    {
     "data": {
      "text/plain": [
       "['none']"
      ]
     },
     "execution_count": 10,
     "metadata": {},
     "output_type": "execute_result"
    }
   ],
   "source": [
    "years,reportType,startBalance,receipts,expenditures,endBalance,filed  = [\"none\"],[\"none\"],[\"none\"],[\"none\"],[\"none\"],[\"none\"],[\"none\"]\n",
    "filed"
   ]
  },
  {
   "cell_type": "code",
   "execution_count": 77,
   "metadata": {},
   "outputs": [
    {
     "data": {
      "text/plain": [
       "<selenium.webdriver.remote.webelement.WebElement (session=\"9a4870a6989aab1aa310555062eed3c1\", element=\"0.5564919776162705-54\")>"
      ]
     },
     "execution_count": 77,
     "metadata": {},
     "output_type": "execute_result"
    }
   ],
   "source": [
    "# try:\n",
    "#     driver.find_element_by_class_name('btn navNext')\n",
    "# except:\n",
    "#     print(\"error\")\n",
    "driver.find_element_by_xpath(\"//button[@class='btn navNext']\")"
   ]
  },
  {
   "cell_type": "code",
   "execution_count": 5,
   "metadata": {},
   "outputs": [],
   "source": [
    "import pandas as pd\n",
    "from pandas import read_csv\n",
    "import selenium\n",
    "from selenium import webdriver\n",
    "from selenium.webdriver.support.ui import Select\n",
    "from collections import OrderedDict \n",
    "from selenium.webdriver.common.keys import Keys \n",
    "import time"
   ]
  },
  {
   "cell_type": "code",
   "execution_count": 8,
   "metadata": {},
   "outputs": [
    {
     "data": {
      "text/plain": [
       "['District',\n",
       " 'Estimate; SEX AND AGE - Total population',\n",
       " 'Margin of Error; SEX AND AGE - Total population',\n",
       " 'Percent; SEX AND AGE - Total population',\n",
       " 'Estimate; SEX AND AGE - Male',\n",
       " 'Margin of Error; SEX AND AGE - Male',\n",
       " 'Percent; SEX AND AGE - Male',\n",
       " 'Percent Margin of Error; SEX AND AGE - Male',\n",
       " 'Estimate; SEX AND AGE - Female',\n",
       " 'Margin of Error; SEX AND AGE - Female',\n",
       " 'Percent; SEX AND AGE - Female',\n",
       " 'Percent Margin of Error; SEX AND AGE - Female',\n",
       " 'Estimate; SEX AND AGE - Under 5 years',\n",
       " 'Margin of Error; SEX AND AGE - Under 5 years',\n",
       " 'Percent; SEX AND AGE - Under 5 years',\n",
       " 'Percent Margin of Error; SEX AND AGE - Under 5 years',\n",
       " 'Estimate; SEX AND AGE - 5 to 9 years',\n",
       " 'Margin of Error; SEX AND AGE - 5 to 9 years',\n",
       " 'Percent; SEX AND AGE - 5 to 9 years',\n",
       " 'Percent Margin of Error; SEX AND AGE - 5 to 9 years',\n",
       " 'Estimate; SEX AND AGE - 10 to 14 years',\n",
       " 'Margin of Error; SEX AND AGE - 10 to 14 years',\n",
       " 'Percent; SEX AND AGE - 10 to 14 years',\n",
       " 'Percent Margin of Error; SEX AND AGE - 10 to 14 years',\n",
       " 'Estimate; SEX AND AGE - 15 to 19 years',\n",
       " 'Margin of Error; SEX AND AGE - 15 to 19 years',\n",
       " 'Percent; SEX AND AGE - 15 to 19 years',\n",
       " 'Percent Margin of Error; SEX AND AGE - 15 to 19 years',\n",
       " 'Estimate; SEX AND AGE - 20 to 24 years',\n",
       " 'Margin of Error; SEX AND AGE - 20 to 24 years',\n",
       " 'Percent; SEX AND AGE - 20 to 24 years',\n",
       " 'Percent Margin of Error; SEX AND AGE - 20 to 24 years',\n",
       " 'Estimate; SEX AND AGE - 25 to 34 years',\n",
       " 'Margin of Error; SEX AND AGE - 25 to 34 years',\n",
       " 'Percent; SEX AND AGE - 25 to 34 years',\n",
       " 'Percent Margin of Error; SEX AND AGE - 25 to 34 years',\n",
       " 'Estimate; SEX AND AGE - 35 to 44 years',\n",
       " 'Margin of Error; SEX AND AGE - 35 to 44 years',\n",
       " 'Percent; SEX AND AGE - 35 to 44 years',\n",
       " 'Percent Margin of Error; SEX AND AGE - 35 to 44 years',\n",
       " 'Estimate; SEX AND AGE - 45 to 54 years',\n",
       " 'Margin of Error; SEX AND AGE - 45 to 54 years',\n",
       " 'Percent; SEX AND AGE - 45 to 54 years',\n",
       " 'Percent Margin of Error; SEX AND AGE - 45 to 54 years',\n",
       " 'Estimate; SEX AND AGE - 55 to 59 years',\n",
       " 'Margin of Error; SEX AND AGE - 55 to 59 years',\n",
       " 'Percent; SEX AND AGE - 55 to 59 years',\n",
       " 'Percent Margin of Error; SEX AND AGE - 55 to 59 years',\n",
       " 'Estimate; SEX AND AGE - 60 to 64 years',\n",
       " 'Margin of Error; SEX AND AGE - 60 to 64 years',\n",
       " 'Percent; SEX AND AGE - 60 to 64 years',\n",
       " 'Percent Margin of Error; SEX AND AGE - 60 to 64 years',\n",
       " 'Estimate; SEX AND AGE - 65 to 74 years',\n",
       " 'Margin of Error; SEX AND AGE - 65 to 74 years',\n",
       " 'Percent; SEX AND AGE - 65 to 74 years',\n",
       " 'Percent Margin of Error; SEX AND AGE - 65 to 74 years',\n",
       " 'Estimate; SEX AND AGE - 75 to 84 years',\n",
       " 'Margin of Error; SEX AND AGE - 75 to 84 years',\n",
       " 'Percent; SEX AND AGE - 75 to 84 years',\n",
       " 'Percent Margin of Error; SEX AND AGE - 75 to 84 years',\n",
       " 'Estimate; SEX AND AGE - 85 years and over',\n",
       " 'Margin of Error; SEX AND AGE - 85 years and over',\n",
       " 'Percent; SEX AND AGE - 85 years and over',\n",
       " 'Percent Margin of Error; SEX AND AGE - 85 years and over',\n",
       " 'Estimate; SEX AND AGE - Median age (years)',\n",
       " 'Margin of Error; SEX AND AGE - Median age (years)',\n",
       " 'Estimate; SEX AND AGE - 18 years and over',\n",
       " 'Margin of Error; SEX AND AGE - 18 years and over',\n",
       " 'Percent; SEX AND AGE - 18 years and over',\n",
       " 'Percent Margin of Error; SEX AND AGE - 18 years and over',\n",
       " 'Estimate; SEX AND AGE - 21 years and over',\n",
       " 'Margin of Error; SEX AND AGE - 21 years and over',\n",
       " 'Percent; SEX AND AGE - 21 years and over',\n",
       " 'Percent Margin of Error; SEX AND AGE - 21 years and over',\n",
       " 'Estimate; SEX AND AGE - 62 years and over',\n",
       " 'Margin of Error; SEX AND AGE - 62 years and over',\n",
       " 'Percent; SEX AND AGE - 62 years and over',\n",
       " 'Percent Margin of Error; SEX AND AGE - 62 years and over',\n",
       " 'Estimate; SEX AND AGE - 65 years and over',\n",
       " 'Margin of Error; SEX AND AGE - 65 years and over',\n",
       " 'Percent; SEX AND AGE - 65 years and over',\n",
       " 'Percent Margin of Error; SEX AND AGE - 65 years and over',\n",
       " 'Estimate; SEX AND AGE - 18 years and over.1',\n",
       " 'Margin of Error; SEX AND AGE - 18 years and over.1',\n",
       " 'Percent; SEX AND AGE - 18 years and over.1',\n",
       " 'Estimate; SEX AND AGE - Male.1',\n",
       " 'Margin of Error; SEX AND AGE - Male.1',\n",
       " 'Percent; SEX AND AGE - Male.1',\n",
       " 'Percent Margin of Error; SEX AND AGE - Male.1',\n",
       " 'Estimate; SEX AND AGE - Female.1',\n",
       " 'Margin of Error; SEX AND AGE - Female.1',\n",
       " 'Percent; SEX AND AGE - Female.1',\n",
       " 'Percent Margin of Error; SEX AND AGE - Female.1',\n",
       " 'Estimate; SEX AND AGE - 65 years and over.1',\n",
       " 'Margin of Error; SEX AND AGE - 65 years and over.1',\n",
       " 'Percent; SEX AND AGE - 65 years and over.1',\n",
       " 'Estimate; SEX AND AGE - Male.2',\n",
       " 'Margin of Error; SEX AND AGE - Male.2',\n",
       " 'Percent; SEX AND AGE - Male.2',\n",
       " 'Percent Margin of Error; SEX AND AGE - Male.2',\n",
       " 'Estimate; SEX AND AGE - Female.2',\n",
       " 'Margin of Error; SEX AND AGE - Female.2',\n",
       " 'Percent; SEX AND AGE - Female.2',\n",
       " 'Percent Margin of Error; SEX AND AGE - Female.2',\n",
       " 'Estimate; RACE - Total population',\n",
       " 'Margin of Error; RACE - Total population',\n",
       " 'Percent; RACE - Total population',\n",
       " 'Estimate; RACE - One race',\n",
       " 'Margin of Error; RACE - One race',\n",
       " 'Percent; RACE - One race',\n",
       " 'Percent Margin of Error; RACE - One race',\n",
       " 'Estimate; RACE - Two or more races',\n",
       " 'Margin of Error; RACE - Two or more races',\n",
       " 'Percent; RACE - Two or more races',\n",
       " 'Percent Margin of Error; RACE - Two or more races',\n",
       " 'Estimate; RACE - One race.1',\n",
       " 'Margin of Error; RACE - One race.1',\n",
       " 'Percent; RACE - One race.1',\n",
       " 'Percent Margin of Error; RACE - One race.1',\n",
       " 'Estimate; RACE - One race - White',\n",
       " 'Margin of Error; RACE - One race - White',\n",
       " 'Percent; RACE - One race - White',\n",
       " 'Percent Margin of Error; RACE - One race - White',\n",
       " 'Estimate; RACE - One race - Black or African American',\n",
       " 'Margin of Error; RACE - One race - Black or African American',\n",
       " 'Percent; RACE - One race - Black or African American',\n",
       " 'Percent Margin of Error; RACE - One race - Black or African American',\n",
       " 'Estimate; RACE - One race - American Indian and Alaska Native',\n",
       " 'Margin of Error; RACE - One race - American Indian and Alaska Native',\n",
       " 'Percent; RACE - One race - American Indian and Alaska Native',\n",
       " 'Percent Margin of Error; RACE - One race - American Indian and Alaska Native',\n",
       " 'Estimate; RACE - One race - American Indian and Alaska Native - Cherokee tribal grouping',\n",
       " 'Margin of Error; RACE - One race - American Indian and Alaska Native - Cherokee tribal grouping',\n",
       " 'Percent; RACE - One race - American Indian and Alaska Native - Cherokee tribal grouping',\n",
       " 'Percent Margin of Error; RACE - One race - American Indian and Alaska Native - Cherokee tribal grouping',\n",
       " 'Estimate; RACE - One race - American Indian and Alaska Native - Chippewa tribal grouping',\n",
       " 'Margin of Error; RACE - One race - American Indian and Alaska Native - Chippewa tribal grouping',\n",
       " 'Percent; RACE - One race - American Indian and Alaska Native - Chippewa tribal grouping',\n",
       " 'Percent Margin of Error; RACE - One race - American Indian and Alaska Native - Chippewa tribal grouping',\n",
       " 'Estimate; RACE - One race - American Indian and Alaska Native - Navajo tribal grouping',\n",
       " 'Margin of Error; RACE - One race - American Indian and Alaska Native - Navajo tribal grouping',\n",
       " 'Percent; RACE - One race - American Indian and Alaska Native - Navajo tribal grouping',\n",
       " 'Percent Margin of Error; RACE - One race - American Indian and Alaska Native - Navajo tribal grouping',\n",
       " 'Estimate; RACE - One race - American Indian and Alaska Native - Sioux tribal grouping',\n",
       " 'Margin of Error; RACE - One race - American Indian and Alaska Native - Sioux tribal grouping',\n",
       " 'Percent; RACE - One race - American Indian and Alaska Native - Sioux tribal grouping',\n",
       " 'Percent Margin of Error; RACE - One race - American Indian and Alaska Native - Sioux tribal grouping',\n",
       " 'Estimate; RACE - One race - Asian',\n",
       " 'Margin of Error; RACE - One race - Asian',\n",
       " 'Percent; RACE - One race - Asian',\n",
       " 'Percent Margin of Error; RACE - One race - Asian',\n",
       " 'Estimate; RACE - One race - Asian - Asian Indian',\n",
       " 'Margin of Error; RACE - One race - Asian - Asian Indian',\n",
       " 'Percent; RACE - One race - Asian - Asian Indian',\n",
       " 'Percent Margin of Error; RACE - One race - Asian - Asian Indian',\n",
       " 'Estimate; RACE - One race - Asian - Chinese',\n",
       " 'Margin of Error; RACE - One race - Asian - Chinese',\n",
       " 'Percent; RACE - One race - Asian - Chinese',\n",
       " 'Percent Margin of Error; RACE - One race - Asian - Chinese',\n",
       " 'Estimate; RACE - One race - Asian - Filipino',\n",
       " 'Margin of Error; RACE - One race - Asian - Filipino',\n",
       " 'Percent; RACE - One race - Asian - Filipino',\n",
       " 'Percent Margin of Error; RACE - One race - Asian - Filipino',\n",
       " 'Estimate; RACE - One race - Asian - Japanese',\n",
       " 'Margin of Error; RACE - One race - Asian - Japanese',\n",
       " 'Percent; RACE - One race - Asian - Japanese',\n",
       " 'Percent Margin of Error; RACE - One race - Asian - Japanese',\n",
       " 'Estimate; RACE - One race - Asian - Korean',\n",
       " 'Margin of Error; RACE - One race - Asian - Korean',\n",
       " 'Percent; RACE - One race - Asian - Korean',\n",
       " 'Percent Margin of Error; RACE - One race - Asian - Korean',\n",
       " 'Estimate; RACE - One race - Asian - Vietnamese',\n",
       " 'Margin of Error; RACE - One race - Asian - Vietnamese',\n",
       " 'Percent; RACE - One race - Asian - Vietnamese',\n",
       " 'Percent Margin of Error; RACE - One race - Asian - Vietnamese',\n",
       " 'Estimate; RACE - One race - Asian - Other Asian',\n",
       " 'Margin of Error; RACE - One race - Asian - Other Asian',\n",
       " 'Percent; RACE - One race - Asian - Other Asian',\n",
       " 'Percent Margin of Error; RACE - One race - Asian - Other Asian',\n",
       " 'Estimate; RACE - One race - Native Hawaiian and Other Pacific Islander',\n",
       " 'Margin of Error; RACE - One race - Native Hawaiian and Other Pacific Islander',\n",
       " 'Percent; RACE - One race - Native Hawaiian and Other Pacific Islander',\n",
       " 'Percent Margin of Error; RACE - One race - Native Hawaiian and Other Pacific Islander',\n",
       " 'Estimate; RACE - One race - Native Hawaiian and Other Pacific Islander - Native Hawaiian',\n",
       " 'Margin of Error; RACE - One race - Native Hawaiian and Other Pacific Islander - Native Hawaiian',\n",
       " 'Percent; RACE - One race - Native Hawaiian and Other Pacific Islander - Native Hawaiian',\n",
       " 'Percent Margin of Error; RACE - One race - Native Hawaiian and Other Pacific Islander - Native Hawaiian',\n",
       " 'Estimate; RACE - One race - Native Hawaiian and Other Pacific Islander - Guamanian or Chamorro',\n",
       " 'Margin of Error; RACE - One race - Native Hawaiian and Other Pacific Islander - Guamanian or Chamorro',\n",
       " 'Percent; RACE - One race - Native Hawaiian and Other Pacific Islander - Guamanian or Chamorro',\n",
       " 'Percent Margin of Error; RACE - One race - Native Hawaiian and Other Pacific Islander - Guamanian or Chamorro',\n",
       " 'Estimate; RACE - One race - Native Hawaiian and Other Pacific Islander - Samoan',\n",
       " 'Margin of Error; RACE - One race - Native Hawaiian and Other Pacific Islander - Samoan',\n",
       " 'Percent; RACE - One race - Native Hawaiian and Other Pacific Islander - Samoan',\n",
       " 'Percent Margin of Error; RACE - One race - Native Hawaiian and Other Pacific Islander - Samoan',\n",
       " 'Estimate; RACE - One race - Native Hawaiian and Other Pacific Islander - Other Pacific Islander',\n",
       " 'Margin of Error; RACE - One race - Native Hawaiian and Other Pacific Islander - Other Pacific Islander',\n",
       " 'Percent; RACE - One race - Native Hawaiian and Other Pacific Islander - Other Pacific Islander',\n",
       " 'Percent Margin of Error; RACE - One race - Native Hawaiian and Other Pacific Islander - Other Pacific Islander',\n",
       " 'Estimate; RACE - One race - Some other race',\n",
       " 'Margin of Error; RACE - One race - Some other race',\n",
       " 'Percent; RACE - One race - Some other race',\n",
       " 'Percent Margin of Error; RACE - One race - Some other race',\n",
       " 'Estimate; RACE - Two or more races.1',\n",
       " 'Margin of Error; RACE - Two or more races.1',\n",
       " 'Percent; RACE - Two or more races.1',\n",
       " 'Percent Margin of Error; RACE - Two or more races.1',\n",
       " 'Estimate; RACE - Two or more races - White and Black or African American',\n",
       " 'Margin of Error; RACE - Two or more races - White and Black or African American',\n",
       " 'Percent; RACE - Two or more races - White and Black or African American',\n",
       " 'Percent Margin of Error; RACE - Two or more races - White and Black or African American',\n",
       " 'Estimate; RACE - Two or more races - White and American Indian and Alaska Native',\n",
       " 'Margin of Error; RACE - Two or more races - White and American Indian and Alaska Native',\n",
       " 'Percent; RACE - Two or more races - White and American Indian and Alaska Native',\n",
       " 'Percent Margin of Error; RACE - Two or more races - White and American Indian and Alaska Native',\n",
       " 'Estimate; RACE - Two or more races - White and Asian',\n",
       " 'Margin of Error; RACE - Two or more races - White and Asian',\n",
       " 'Percent; RACE - Two or more races - White and Asian',\n",
       " 'Percent Margin of Error; RACE - Two or more races - White and Asian',\n",
       " 'Estimate; RACE - Two or more races - Black or African American and American Indian and Alaska Native',\n",
       " 'Margin of Error; RACE - Two or more races - Black or African American and American Indian and Alaska Native',\n",
       " 'Percent; RACE - Two or more races - Black or African American and American Indian and Alaska Native',\n",
       " 'Percent Margin of Error; RACE - Two or more races - Black or African American and American Indian and Alaska Native',\n",
       " 'Estimate; RACE - Race alone or in combination with one or more other races - Total population',\n",
       " 'Margin of Error; RACE - Race alone or in combination with one or more other races - Total population',\n",
       " 'Percent; RACE - Race alone or in combination with one or more other races - Total population',\n",
       " 'Estimate; RACE - White',\n",
       " 'Margin of Error; RACE - White',\n",
       " 'Percent; RACE - White',\n",
       " 'Percent Margin of Error; RACE - White',\n",
       " 'Estimate; RACE - Black or African American',\n",
       " 'Margin of Error; RACE - Black or African American',\n",
       " 'Percent; RACE - Black or African American',\n",
       " 'Percent Margin of Error; RACE - Black or African American',\n",
       " 'Estimate; RACE - American Indian and Alaska Native',\n",
       " 'Margin of Error; RACE - American Indian and Alaska Native',\n",
       " 'Percent; RACE - American Indian and Alaska Native',\n",
       " 'Percent Margin of Error; RACE - American Indian and Alaska Native',\n",
       " 'Estimate; RACE - Asian',\n",
       " 'Margin of Error; RACE - Asian',\n",
       " 'Percent; RACE - Asian',\n",
       " 'Percent Margin of Error; RACE - Asian',\n",
       " 'Estimate; RACE - Native Hawaiian and Other Pacific Islander',\n",
       " 'Margin of Error; RACE - Native Hawaiian and Other Pacific Islander',\n",
       " 'Percent; RACE - Native Hawaiian and Other Pacific Islander',\n",
       " 'Percent Margin of Error; RACE - Native Hawaiian and Other Pacific Islander',\n",
       " 'Estimate; RACE - Some other race',\n",
       " 'Margin of Error; RACE - Some other race',\n",
       " 'Percent; RACE - Some other race',\n",
       " 'Percent Margin of Error; RACE - Some other race',\n",
       " 'Estimate; HISPANIC OR LATINO AND RACE - Total population',\n",
       " 'Margin of Error; HISPANIC OR LATINO AND RACE - Total population',\n",
       " 'Percent; HISPANIC OR LATINO AND RACE - Total population',\n",
       " 'Estimate; HISPANIC OR LATINO AND RACE - Hispanic or Latino (of any race)',\n",
       " 'Margin of Error; HISPANIC OR LATINO AND RACE - Hispanic or Latino (of any race)',\n",
       " 'Percent; HISPANIC OR LATINO AND RACE - Hispanic or Latino (of any race)',\n",
       " 'Percent Margin of Error; HISPANIC OR LATINO AND RACE - Hispanic or Latino (of any race)',\n",
       " 'Estimate; HISPANIC OR LATINO AND RACE - Hispanic or Latino (of any race) - Mexican',\n",
       " 'Margin of Error; HISPANIC OR LATINO AND RACE - Hispanic or Latino (of any race) - Mexican',\n",
       " 'Percent; HISPANIC OR LATINO AND RACE - Hispanic or Latino (of any race) - Mexican',\n",
       " 'Percent Margin of Error; HISPANIC OR LATINO AND RACE - Hispanic or Latino (of any race) - Mexican',\n",
       " 'Estimate; HISPANIC OR LATINO AND RACE - Hispanic or Latino (of any race) - Puerto Rican',\n",
       " 'Margin of Error; HISPANIC OR LATINO AND RACE - Hispanic or Latino (of any race) - Puerto Rican',\n",
       " 'Percent; HISPANIC OR LATINO AND RACE - Hispanic or Latino (of any race) - Puerto Rican',\n",
       " 'Percent Margin of Error; HISPANIC OR LATINO AND RACE - Hispanic or Latino (of any race) - Puerto Rican',\n",
       " 'Estimate; HISPANIC OR LATINO AND RACE - Hispanic or Latino (of any race) - Cuban',\n",
       " 'Margin of Error; HISPANIC OR LATINO AND RACE - Hispanic or Latino (of any race) - Cuban',\n",
       " 'Percent; HISPANIC OR LATINO AND RACE - Hispanic or Latino (of any race) - Cuban',\n",
       " 'Percent Margin of Error; HISPANIC OR LATINO AND RACE - Hispanic or Latino (of any race) - Cuban',\n",
       " 'Estimate; HISPANIC OR LATINO AND RACE - Hispanic or Latino (of any race) - Other Hispanic or Latino',\n",
       " 'Margin of Error; HISPANIC OR LATINO AND RACE - Hispanic or Latino (of any race) - Other Hispanic or Latino',\n",
       " 'Percent; HISPANIC OR LATINO AND RACE - Hispanic or Latino (of any race) - Other Hispanic or Latino',\n",
       " 'Percent Margin of Error; HISPANIC OR LATINO AND RACE - Hispanic or Latino (of any race) - Other Hispanic or Latino',\n",
       " 'Estimate; HISPANIC OR LATINO AND RACE - Not Hispanic or Latino',\n",
       " 'Margin of Error; HISPANIC OR LATINO AND RACE - Not Hispanic or Latino',\n",
       " 'Percent; HISPANIC OR LATINO AND RACE - Not Hispanic or Latino',\n",
       " 'Percent Margin of Error; HISPANIC OR LATINO AND RACE - Not Hispanic or Latino',\n",
       " 'Estimate; HISPANIC OR LATINO AND RACE - Not Hispanic or Latino - White alone',\n",
       " 'Margin of Error; HISPANIC OR LATINO AND RACE - Not Hispanic or Latino - White alone',\n",
       " 'Percent; HISPANIC OR LATINO AND RACE - Not Hispanic or Latino - White alone',\n",
       " 'Percent Margin of Error; HISPANIC OR LATINO AND RACE - Not Hispanic or Latino - White alone',\n",
       " 'Estimate; HISPANIC OR LATINO AND RACE - Not Hispanic or Latino - Black or African American alone',\n",
       " 'Margin of Error; HISPANIC OR LATINO AND RACE - Not Hispanic or Latino - Black or African American alone',\n",
       " 'Percent; HISPANIC OR LATINO AND RACE - Not Hispanic or Latino - Black or African American alone',\n",
       " 'Percent Margin of Error; HISPANIC OR LATINO AND RACE - Not Hispanic or Latino - Black or African American alone',\n",
       " 'Estimate; HISPANIC OR LATINO AND RACE - Not Hispanic or Latino - American Indian and Alaska Native alone',\n",
       " 'Margin of Error; HISPANIC OR LATINO AND RACE - Not Hispanic or Latino - American Indian and Alaska Native alone',\n",
       " 'Percent; HISPANIC OR LATINO AND RACE - Not Hispanic or Latino - American Indian and Alaska Native alone',\n",
       " 'Percent Margin of Error; HISPANIC OR LATINO AND RACE - Not Hispanic or Latino - American Indian and Alaska Native alone',\n",
       " 'Estimate; HISPANIC OR LATINO AND RACE - Not Hispanic or Latino - Asian alone',\n",
       " 'Margin of Error; HISPANIC OR LATINO AND RACE - Not Hispanic or Latino - Asian alone',\n",
       " 'Percent; HISPANIC OR LATINO AND RACE - Not Hispanic or Latino - Asian alone',\n",
       " 'Percent Margin of Error; HISPANIC OR LATINO AND RACE - Not Hispanic or Latino - Asian alone',\n",
       " 'Estimate; HISPANIC OR LATINO AND RACE - Not Hispanic or Latino - Native Hawaiian and Other Pacific Islander alone',\n",
       " 'Margin of Error; HISPANIC OR LATINO AND RACE - Not Hispanic or Latino - Native Hawaiian and Other Pacific Islander alone',\n",
       " 'Percent; HISPANIC OR LATINO AND RACE - Not Hispanic or Latino - Native Hawaiian and Other Pacific Islander alone',\n",
       " 'Percent Margin of Error; HISPANIC OR LATINO AND RACE - Not Hispanic or Latino - Native Hawaiian and Other Pacific Islander alone',\n",
       " 'Estimate; HISPANIC OR LATINO AND RACE - Not Hispanic or Latino - Some other race alone',\n",
       " 'Margin of Error; HISPANIC OR LATINO AND RACE - Not Hispanic or Latino - Some other race alone',\n",
       " 'Percent; HISPANIC OR LATINO AND RACE - Not Hispanic or Latino - Some other race alone',\n",
       " 'Percent Margin of Error; HISPANIC OR LATINO AND RACE - Not Hispanic or Latino - Some other race alone',\n",
       " 'Estimate; HISPANIC OR LATINO AND RACE - Not Hispanic or Latino - Two or more races',\n",
       " 'Margin of Error; HISPANIC OR LATINO AND RACE - Not Hispanic or Latino - Two or more races',\n",
       " 'Percent; HISPANIC OR LATINO AND RACE - Not Hispanic or Latino - Two or more races',\n",
       " 'Percent Margin of Error; HISPANIC OR LATINO AND RACE - Not Hispanic or Latino - Two or more races',\n",
       " 'Estimate; HISPANIC OR LATINO AND RACE - Not Hispanic or Latino - Two or more races - Two races including Some other race',\n",
       " 'Margin of Error; HISPANIC OR LATINO AND RACE - Not Hispanic or Latino - Two or more races - Two races including Some other race',\n",
       " 'Percent; HISPANIC OR LATINO AND RACE - Not Hispanic or Latino - Two or more races - Two races including Some other race',\n",
       " 'Percent Margin of Error; HISPANIC OR LATINO AND RACE - Not Hispanic or Latino - Two or more races - Two races including Some other race',\n",
       " 'Estimate; HISPANIC OR LATINO AND RACE - Not Hispanic or Latino - Two or more races - Two races excluding Some other race, and Three or more races',\n",
       " 'Margin of Error; HISPANIC OR LATINO AND RACE - Not Hispanic or Latino - Two or more races - Two races excluding Some other race, and Three or more races',\n",
       " 'Percent; HISPANIC OR LATINO AND RACE - Not Hispanic or Latino - Two or more races - Two races excluding Some other race, and Three or more races',\n",
       " 'Percent Margin of Error; HISPANIC OR LATINO AND RACE - Not Hispanic or Latino - Two or more races - Two races excluding Some other race, and Three or more races',\n",
       " 'Estimate; HISPANIC OR LATINO AND RACE - Total housing units',\n",
       " 'Margin of Error; HISPANIC OR LATINO AND RACE - Total housing units',\n",
       " 'Estimate; Total:',\n",
       " 'Margin of Error; Total:',\n",
       " 'Estimate; Total: - Less than $10,000',\n",
       " 'Margin of Error; Total: - Less than $10,000',\n",
       " 'Estimate; Total: - $10,000 to $14,999',\n",
       " 'Margin of Error; Total: - $10,000 to $14,999',\n",
       " 'Estimate; Total: - $15,000 to $19,999',\n",
       " 'Margin of Error; Total: - $15,000 to $19,999',\n",
       " 'Estimate; Total: - $20,000 to $24,999',\n",
       " 'Margin of Error; Total: - $20,000 to $24,999',\n",
       " 'Estimate; Total: - $25,000 to $29,999',\n",
       " 'Margin of Error; Total: - $25,000 to $29,999',\n",
       " 'Estimate; Total: - $30,000 to $34,999',\n",
       " 'Margin of Error; Total: - $30,000 to $34,999',\n",
       " 'Estimate; Total: - $35,000 to $39,999',\n",
       " 'Margin of Error; Total: - $35,000 to $39,999',\n",
       " 'Estimate; Total: - $40,000 to $44,999',\n",
       " 'Margin of Error; Total: - $40,000 to $44,999',\n",
       " 'Estimate; Total: - $45,000 to $49,999',\n",
       " 'Margin of Error; Total: - $45,000 to $49,999',\n",
       " 'Estimate; Total: - $50,000 to $59,999',\n",
       " 'Margin of Error; Total: - $50,000 to $59,999',\n",
       " 'Estimate; Total: - $60,000 to $74,999',\n",
       " 'Margin of Error; Total: - $60,000 to $74,999',\n",
       " 'Estimate; Total: - $75,000 to $99,999',\n",
       " 'Margin of Error; Total: - $75,000 to $99,999',\n",
       " 'Estimate; Total: - $100,000 to $124,999',\n",
       " 'Margin of Error; Total: - $100,000 to $124,999',\n",
       " 'Estimate; Total: - $125,000 to $149,999',\n",
       " 'Margin of Error; Total: - $125,000 to $149,999',\n",
       " 'Estimate; Total: - $150,000 to $199,999',\n",
       " 'Margin of Error; Total: - $150,000 to $199,999',\n",
       " 'Estimate; Total: - $200,000 or more',\n",
       " 'Margin of Error; Total: - $200,000 or more',\n",
       " 'Amount',\n",
       " 'name',\n",
       " 'sex',\n",
       " 'party',\n",
       " 'vote_count',\n",
       " 'vote_percent']"
      ]
     },
     "execution_count": 8,
     "metadata": {},
     "output_type": "execute_result"
    }
   ],
   "source": [
    "df = pd.read_csv(\"../historical_model/train_data/merged_house_districts_2009_2010.csv\")\n",
    "list(df)"
   ]
  },
  {
   "cell_type": "code",
   "execution_count": 13,
   "metadata": {},
   "outputs": [
    {
     "data": {
      "text/plain": [
       "0        m\n",
       "1        m\n",
       "2        f\n",
       "3        m\n",
       "4      NaN\n",
       "5      NaN\n",
       "6      NaN\n",
       "7      NaN\n",
       "8        m\n",
       "9        m\n",
       "10       m\n",
       "11       f\n",
       "12     NaN\n",
       "13     NaN\n",
       "14     NaN\n",
       "15     NaN\n",
       "16       m\n",
       "17       f\n",
       "18       m\n",
       "19       f\n",
       "20     NaN\n",
       "21     NaN\n",
       "22     NaN\n",
       "23     NaN\n",
       "24       m\n",
       "25       m\n",
       "26       m\n",
       "27     NaN\n",
       "28     NaN\n",
       "29     NaN\n",
       "      ... \n",
       "131      m\n",
       "132    NaN\n",
       "133    NaN\n",
       "134    NaN\n",
       "135    NaN\n",
       "136      m\n",
       "137      m\n",
       "138      m\n",
       "139      m\n",
       "140    NaN\n",
       "141    NaN\n",
       "142    NaN\n",
       "143    NaN\n",
       "144      m\n",
       "145      f\n",
       "146      m\n",
       "147      f\n",
       "148    NaN\n",
       "149    NaN\n",
       "150    NaN\n",
       "151    NaN\n",
       "152      m\n",
       "153      m\n",
       "154      m\n",
       "155      m\n",
       "156    NaN\n",
       "157    NaN\n",
       "158    NaN\n",
       "159    NaN\n",
       "160      m\n",
       "Name: sex, Length: 161, dtype: object"
      ]
     },
     "execution_count": 13,
     "metadata": {},
     "output_type": "execute_result"
    }
   ],
   "source": [
    "df.sex"
   ]
  },
  {
   "cell_type": "code",
   "execution_count": null,
   "metadata": {},
   "outputs": [],
   "source": []
  },
  {
   "cell_type": "code",
   "execution_count": null,
   "metadata": {},
   "outputs": [],
   "source": []
  }
 ],
 "metadata": {
  "kernelspec": {
   "display_name": "Python 3",
   "language": "python",
   "name": "python3"
  },
  "language_info": {
   "codemirror_mode": {
    "name": "ipython",
    "version": 3
   },
   "file_extension": ".py",
   "mimetype": "text/x-python",
   "name": "python",
   "nbconvert_exporter": "python",
   "pygments_lexer": "ipython3",
   "version": "3.6.4"
  }
 },
 "nbformat": 4,
 "nbformat_minor": 2
}
